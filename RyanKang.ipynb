%matplotlib nbagg

#Importing useful modules

import numpy as np

import matplotlib.pyplot as plt
import matplotlib.animation as animation
import matplotlib.patches as patches
import matplotlib.path as path

from scipy.constants import R
from scipy.spatial.distance import pdist, squareform

#I have defined the constants that I may wish to change in the future. This allows for easier adaptation in the future


Temp=300
particlemass=0.004

vavg=np.sqrt(8*R*Temp/(np.pi*particlemass))

#Constants about all the particles
NUM_PARTICLES = 1500
MAX_SPEED = vavg

#Constants about the particle
particlesize=0.04 #This is the radius
particlemass=0.004
particlecolour='bo' 

#Constants about animation
dt = 1/ 600
DELAY=10 #Time delay between each frame of the animation

#Constants about the box
boxsize=50
boxcolour='red'

#Costants about the histogram
NUM_BINS = 20 #Number of bars on the histogram
HIST_HEIGHT = NUM_PARTICLES*0.3 #Maximum value of the y-axis
HIST_SPEED = MAX_SPEED *3

class GasParticle:
    
    def __init__(self,init_state = [],bounds = [0, boxsize, 0, boxsize],size = particlesize,M = particlemass):
        
        self.init_state = np.asarray(init_state, dtype=float)
        self.M = M * np.ones(self.init_state.shape[0])
        self.size = size
        self.state = self.init_state.copy()
        self.time_elapsed = 0
        self.bounds = bounds
        
        
    def step(self, dt):
        
        #We know what time has passed
        self.time_elapsed = dt+self.time_elapsed
       
        # update positions
        self.state[:, 0:2] = dt * self.state[:, 2:4] + self.state[:, 0:2]
 
        D = squareform(pdist(self.state[:, 0:2]))
        ind1, ind2 = np.where(D < 2 * self.size)
        unique = (ind1 < ind2)
        ind1 = ind1[unique]
        ind2 = ind2[unique]
 
        # update velocities of colliding pairs
        for i1, i2 in zip(ind1, ind2):
            
            # mass
            m1 = self.M[i1]
            m2 = self.M[i2]
 
            # position
            x1 = self.state[i1, 0:2]
            x2 = self.state[i2, 0:2]
 
            # velocity 
            v1 = self.state[i1, 2:4]
            v2 = self.state[i2, 2:4]
 
            
            x_rel = x1 - x2
            v_rel = v1 - v2
 
            
            v_cm = (m1 * v1 + m2 * v2) / (m1 + m2)
 
            
            xr_rel = np.dot(x_rel, x_rel)
            vr_rel = np.dot(v_rel, x_rel)
            v_rel = 2 * x_rel * vr_rel / xr_rel - v_rel
 
            
            self.state[i1, 2:4] = v_cm + v_rel * m2 / (m1 + m2)
            self.state[i2, 2:4] = v_cm - v_rel * m1 / (m1 + m2)

        #This checks whether the particles has gone past the boundary in which case the particle needs to be bounced back in
    
        #This checks the left wall
        crossed_x1 = (self.state[:, 0] < self.bounds[0] + self.size)
        #This checks the right wall
        crossed_x2 = (self.state[:, 0] > self.bounds[1] - self.size)
        #This check the floor
        crossed_y1 = (self.state[:, 1] < self.bounds[2] + self.size)
        #This checks the ceiling
        crossed_y2 = (self.state[:, 1] > self.bounds[3] - self.size)
 
        self.state[crossed_x1, 0] = self.bounds[0] + self.size
        self.state[crossed_x2, 0] = self.bounds[1] - self.size
 
        self.state[crossed_y1, 1] = self.bounds[2] + self.size
        self.state[crossed_y2, 1] = self.bounds[3] - self.size
 
        self.state[crossed_x1 | crossed_x2, 2] *= -1
        self.state[crossed_y1 | crossed_y2, 3] *= -1
        
        

#Generates the intial state
init_state = np.random.random((NUM_PARTICLES, 4))
init_state[:, 0:2] *= boxsize
init_state[:, 3:4]  =init_state[:, 2:3]
init_state[:, 2:3]  =np.sin(2*np.pi*init_state[:, 2:3])*MAX_SPEED
init_state[:, 3:4]  =np.cos(2*np.pi*init_state[:, 3:4])*MAX_SPEED


#gas is the instance of the class gasparticles
gas = GasParticle(init_state, size=particlesize)

#This is a function that gets the magnitude of the velocity,(combines the x,y components etc..)
def getVelocities():
    return np.sqrt(gas.state[:, 2]**2 + gas.state[:, 3]**2)

#This bit of code is about setting up the animation____________________________________________________________________________
# set up figure,histogram and animation
fig = plt.figure()
#The first 3 numbers
#1 --> number of rows (ie 2 rows)
#2 --> number of columns (ie 1 column)
#3 --> Position in this grid
pos = fig.add_subplot(211, aspect='equal', autoscale_on=False, xlim=(-0.5, boxsize+0.5), ylim=(-0.5, boxsize+0.5))
vs = fig.add_subplot(212, aspect= 'equal', autoscale_on=False, xlim=(0, 50), ylim=(0, 30))
#______________________________________________________________________________________________________________________________


#(This section is about histograms)__________________________________________________________________________________________
data = getVelocities()  
n, bins = np.histogram(data, NUM_BINS)
 
left = np.array(bins[:-1])
right = np.array(bins[1:])
bottom = np.zeros(len(left))
top = bottom + n
nrects = len(left)
 
nverts = nrects*(1 + 3 + 1)
verts = np.zeros((nverts, 2))
codes = np.ones(nverts, int) * path.Path.LINETO
codes[0::5] = path.Path.MOVETO
codes[4::5] = path.Path.CLOSEPOLY
verts[0::5, 0] = left
verts[0::5, 1] = bottom
verts[1::5, 0] = left
verts[1::5, 1] = top
verts[2::5, 0] = right
verts[2::5, 1] = top
verts[3::5, 0] = right
verts[3::5, 1] = bottom
 
barpath = path.Path(verts, codes)
patch = patches.PathPatch(barpath, facecolor='green', edgecolor='green', alpha=0.3)
vs.add_patch(patch)
 
vs.set_xlim(0, HIST_SPEED)
vs.set_ylim(0, HIST_HEIGHT)
vs.set_xlabel("Speed of particles m/s")
vs.set_ylabel("Number of particles")
vs.set_title("Temp:"+str(Temp)+", mass:"+str(particlemass))
vs.set_aspect((HIST_SPEED/HIST_HEIGHT)*0.8)
#______________________________________________________________________________________________________________________________


#This part is about partice animations__________________________________________________________________________________________
particles, = pos.plot([], [], particlecolour, ms=particlesize*100) 
#We make a rectangle so that we have a visual representation of the outer edges of the container
container = plt.Rectangle((0,0), boxsize,boxsize, ec=boxcolour, lw=1, fill=False)
pos.add_patch(container)
#_______________________________________________________________________________________________________________________________
def init():
    global gas
    particles.set_data([], [])
    return particles

def animate(i):
    global gas, dt, pos, fig
    gas.step(dt)#step forward in time
    
    #This bit is about the particle graph_______________________________________________________________________________________
    ms = int(fig.dpi * 2 * particlesize * fig.get_figwidth()/ np.diff(pos.get_xbound())[0])
   

    particles.set_data(gas.state[:, 0], gas.state[:, 1])
    particles.set_markersize(ms)
    #___________________________________________________________________________________________________________________________
    
      
    # This bit is about updating the histogram__________________________________________________________________________________
    data = getVelocities()
    n, bins = np.histogram(data, NUM_BINS)

 
    left = np.array(bins[:-1])
    right = np.array(bins[1:])
    bottom = np.zeros(len(left))
    top = bottom + n
    nrects = len(left)
 

    nverts = nrects*(1 + 3 + 1)
    codes[0::5] = path.Path.MOVETO
    codes[4::5] = path.Path.CLOSEPOLY
    verts[0::5, 0] = left
    verts[0::5, 1] = bottom
    verts[1::5, 0] = left
    verts[1::5, 1] = top
    verts[2::5, 0] = right
    verts[2::5, 1] = top
    verts[3::5, 0] = right
    verts[3::5, 1] = bottom
    
    #___________________________________________________________________________________________________________________________
    
    
    
    return particles,patch

ani = animation.FuncAnimation(fig, animate, frames=600,interval=DELAY, blit=True, init_func=init)
