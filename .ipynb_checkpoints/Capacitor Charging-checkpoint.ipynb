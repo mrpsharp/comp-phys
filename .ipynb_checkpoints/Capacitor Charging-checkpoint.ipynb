{
 "cells": [
  {
   "cell_type": "markdown",
   "metadata": {},
   "source": [
    "The idea is that two capacitors are joined. Initially *C*_1 has a p.d. of 10 V and *C*_2 has zero. All constants can be changed."
   ]
  },
  {
   "cell_type": "code",
   "execution_count": 21,
   "metadata": {
    "collapsed": false
   },
   "outputs": [],
   "source": [
    "C1 = 1e-6 # 1 micro-farad\n",
    "V1 = 1000\n",
    "Q1 = C1 * V1\n",
    "E1 = 0.5*Q1*V1\n",
    "E2 = 0.5*Q2*V2\n",
    "E_start = 0.5*Q1*C1 + 0.5*Q2*C2\n",
    "E_loss = 0\n",
    "I = 0 # amps\n",
    "R = 1000 # ohms\n",
    "dt = 1e-6 # seconds"
   ]
  },
  {
   "cell_type": "code",
   "execution_count": 26,
   "metadata": {
    "collapsed": false
   },
   "outputs": [
    {
     "name": "stdout",
     "output_type": "stream",
     "text": [
      "9.964651326299644e-14\n"
     ]
    }
   ],
   "source": [
    "while(True):\n",
    "    I = (V1-V2)/R\n",
    "    ## Now, allow a small amount of charge to flow around the circuit\n",
    "    dQ = I*dt\n",
    "    Q1 -= dQ\n",
    "    Q2 += dQ\n",
    "    E_loss += I**2 * R * dt # energy loss in resistor\n",
    "    E1 -= V1 * dQ\n",
    "    E2 += V2 * dQ\n",
    "    ## Now, calculate new voltages\n",
    "    V1 = Q1 / C1\n",
    "    V2 = Q2 / C2\n",
    "    print(I)\n",
    "    if I < 1e-5:\n",
    "        break\n",
    "\n",
    "E_final = 0.5*Q1*C1 + 0.5*Q2*C2"
   ]
  },
  {
   "cell_type": "code",
   "execution_count": 27,
   "metadata": {
    "collapsed": false
   },
   "outputs": [],
   "source": [
    "I = (V1-V2)/R\n"
   ]
  },
  {
   "cell_type": "code",
   "execution_count": null,
   "metadata": {
    "collapsed": true
   },
   "outputs": [],
   "source": []
  }
 ],
 "metadata": {
  "kernelspec": {
   "display_name": "Python 3",
   "language": "python",
   "name": "python3"
  },
  "language_info": {
   "codemirror_mode": {
    "name": "ipython",
    "version": 3
   },
   "file_extension": ".py",
   "mimetype": "text/x-python",
   "name": "python",
   "nbconvert_exporter": "python",
   "pygments_lexer": "ipython3",
   "version": "3.5.1"
  }
 },
 "nbformat": 4,
 "nbformat_minor": 0
}
