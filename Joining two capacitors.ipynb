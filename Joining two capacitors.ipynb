{
 "cells": [
  {
   "cell_type": "markdown",
   "metadata": {},
   "source": [
    "The idea is that two capacitors are joined. Initially *C*_1 has a p.d. of 10 V and *C*_2 has zero. All constants can be changed."
   ]
  },
  {
   "cell_type": "code",
   "execution_count": 32,
   "metadata": {
    "collapsed": false
   },
   "outputs": [],
   "source": [
    "C1 = 1e-6 # 1 micro-farad\n",
    "C2 = 1e-6\n",
    "V1 = 100\n",
    "V2 = 0\n",
    "Q1 = C1 * V1\n",
    "Q2 = C2 * V2\n",
    "E1 = 0.5*Q1*V1\n",
    "E2 = 0.5*Q2*V2\n",
    "E_start = 0.5*Q1*C1 + 0.5*Q2*C2\n",
    "E_loss = 0\n",
    "I = 0 # amps\n",
    "R = 1000 # ohms\n",
    "dt = 1e-6 # seconds"
   ]
  },
  {
   "cell_type": "code",
   "execution_count": 37,
   "metadata": {
    "collapsed": false
   },
   "outputs": [],
   "source": [
    "while(True):\n",
    "    I = (V1-V2)/R\n",
    "    ## Now, allow a small amount of charge to flow around the circuit\n",
    "    dQ = I*dt\n",
    "    Q1 -= dQ\n",
    "    Q2 += dQ\n",
    "    E_loss += I**2 * R * dt # energy loss in resistor\n",
    "    E1 -= V1 * dQ\n",
    "    E2 += V2 * dQ\n",
    "    ## Now, calculate new voltages\n",
    "    V1 = Q1 / C1\n",
    "    V2 = Q2 / C2\n",
    "    if I < 1e-5:\n",
    "        break\n",
    "\n",
    "E_final = 0.5*Q1*C1 + 0.5*Q2*C2"
   ]
  },
  {
   "cell_type": "code",
   "execution_count": 38,
   "metadata": {
    "collapsed": false
   },
   "outputs": [
    {
     "data": {
      "text/plain": [
       "4.9999999999999995e-11"
      ]
     },
     "execution_count": 38,
     "metadata": {},
     "output_type": "execute_result"
    }
   ],
   "source": [
    "E_start"
   ]
  },
  {
   "cell_type": "code",
   "execution_count": 39,
   "metadata": {
    "collapsed": false
   },
   "outputs": [
    {
     "data": {
      "text/plain": [
       "5.0000000000000034e-11"
      ]
     },
     "execution_count": 39,
     "metadata": {},
     "output_type": "execute_result"
    }
   ],
   "source": [
    "E_final"
   ]
  },
  {
   "cell_type": "code",
   "execution_count": 40,
   "metadata": {
    "collapsed": false
   },
   "outputs": [
    {
     "data": {
      "text/plain": [
       "0.002502502477720431"
      ]
     },
     "execution_count": 40,
     "metadata": {},
     "output_type": "execute_result"
    }
   ],
   "source": [
    "E_loss"
   ]
  },
  {
   "cell_type": "code",
   "execution_count": null,
   "metadata": {
    "collapsed": true
   },
   "outputs": [],
   "source": []
  }
 ],
 "metadata": {
  "kernelspec": {
   "display_name": "Python 3",
   "language": "python",
   "name": "python3"
  },
  "language_info": {
   "codemirror_mode": {
    "name": "ipython",
    "version": 3
   },
   "file_extension": ".py",
   "mimetype": "text/x-python",
   "name": "python",
   "nbconvert_exporter": "python",
   "pygments_lexer": "ipython3",
   "version": "3.5.1"
  }
 },
 "nbformat": 4,
 "nbformat_minor": 0
}
